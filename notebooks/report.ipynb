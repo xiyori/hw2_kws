{
 "cells": [
  {
   "cell_type": "code",
   "execution_count": 1,
   "id": "7c0b94d4",
   "metadata": {},
   "outputs": [
    {
     "name": "stdout",
     "output_type": "stream",
     "text": [
      "Numpy version: 1.22.3\n"
     ]
    }
   ],
   "source": [
    "import os, sys, time, random\n",
    "import torch\n",
    "import torch.nn as nn\n",
    "import numpy as np\n",
    "import matplotlib.pyplot as plt\n",
    "import seaborn as sns\n",
    "\n",
    "plt.rcParams['font.size'] = 12\n",
    "plt.rcParams[\"figure.figsize\"] = 8, 5\n",
    "\n",
    "sns.set(rc={\"figure.figsize\": (8, 5)})\n",
    "sns.set(style=\"darkgrid\")\n",
    "\n",
    "print('Numpy version:', np.version.version)\n",
    "\n",
    "# Set working dir to project root\n",
    "while not os.getcwd().endswith(\"hw2_kws\"):\n",
    "    os.chdir(os.pardir)"
   ]
  },
  {
   "cell_type": "markdown",
   "id": "02430595",
   "metadata": {},
   "source": [
    "### Steps to reproduce model\n",
    "\n",
    "1. Run all cells of `seminar.ipynb`\n",
    "2. Run `python bin/create_streaming_jit.py`\n",
    "3. Run `python bin/stream.py`\n",
    "\n",
    "On MacOS `python bin/stream.py -d :0 -f avfoundation`\n",
    "\n",
    "On Linux `python bin/stream.py -d hw:0 -f alsa`\n",
    "\n",
    "On Windows `python bin/stream.py -d audio=YOUR_DEVICE -f dshow`"
   ]
  },
  {
   "cell_type": "markdown",
   "id": "5ad83d3b",
   "metadata": {},
   "source": [
    "### 1. Streaming\n",
    "\n",
    "Генерируем случайный файл с ключевым словом посередине"
   ]
  },
  {
   "cell_type": "code",
   "execution_count": 3,
   "id": "01dea7f2",
   "metadata": {},
   "outputs": [],
   "source": [
    "N = 20\n",
    "seed = 42\n",
    "\n",
    "datadir = 'C:/Users/foma/Downloads/speech_commands/'\n",
    "dirs = [d for d in os.listdir(datadir) if os.path.isdir(datadir + d) and not d.startswith(\"_\")]\n",
    "dirs.sort()\n",
    "\n",
    "np.random.seed(seed)\n",
    "random.seed(seed)\n",
    "\n",
    "with open(\"resources/data/test_pieces.txt\", \"w\") as file:\n",
    "    for i in range(N):\n",
    "        if i == N // 2:\n",
    "            d = \"sheila\"\n",
    "        else:\n",
    "            d = np.random.choice(dirs)\n",
    "        f = np.random.choice(list(sorted(os.listdir(datadir + d))))\n",
    "        file.write(\"file 'file:\" + datadir + d + \"/\" + f + \"'\\n\")"
   ]
  },
  {
   "cell_type": "code",
   "execution_count": 4,
   "id": "16817267",
   "metadata": {
    "scrolled": true
   },
   "outputs": [
    {
     "name": "stderr",
     "output_type": "stream",
     "text": [
      "ffmpeg version 4.2.2 Copyright (c) 2000-2019 the FFmpeg developers\n",
      "  built with gcc 9.2.1 (GCC) 20200122\n",
      "  configuration: --disable-static --enable-shared --enable-gpl --enable-version3 --enable-sdl2 --enable-fontconfig --enable-gnutls --enable-iconv --enable-libass --enable-libdav1d --enable-libbluray --enable-libfreetype --enable-libmp3lame --enable-libopencore-amrnb --enable-libopencore-amrwb --enable-libopenjpeg --enable-libopus --enable-libshine --enable-libsnappy --enable-libsoxr --enable-libtheora --enable-libtwolame --enable-libvpx --enable-libwavpack --enable-libwebp --enable-libx264 --enable-libx265 --enable-libxml2 --enable-libzimg --enable-lzma --enable-zlib --enable-gmp --enable-libvidstab --enable-libvorbis --enable-libvo-amrwbenc --enable-libmysofa --enable-libspeex --enable-libxvid --enable-libaom --enable-libmfx --enable-amf --enable-ffnvcodec --enable-cuvid --enable-d3d11va --enable-nvenc --enable-nvdec --enable-dxva2 --enable-avisynth --enable-libopenmpt\n",
      "  libavutil      56. 31.100 / 56. 31.100\n",
      "  libavcodec     58. 54.100 / 58. 54.100\n",
      "  libavformat    58. 29.100 / 58. 29.100\n",
      "  libavdevice    58.  8.100 / 58.  8.100\n",
      "  libavfilter     7. 57.100 /  7. 57.100\n",
      "  libswscale      5.  5.100 /  5.  5.100\n",
      "  libswresample   3.  5.100 /  3.  5.100\n",
      "  libpostproc    55.  5.100 / 55.  5.100\n",
      "Guessed Channel Layout for Input Stream #0.0 : mono\n",
      "Input #0, concat, from 'resources/data/test_pieces.txt':\n",
      "  Duration: N/A, start: 0.000000, bitrate: 256 kb/s\n",
      "    Stream #0:0: Audio: pcm_s16le ([1][0][0][0] / 0x0001), 16000 Hz, mono, s16, 256 kb/s\n",
      "Stream mapping:\n",
      "  Stream #0:0 -> #0:0 (pcm_s16le (native) -> pcm_s16le (native))\n",
      "Press [q] to stop, [?] for help\n",
      "Output #0, wav, to 'resources/data/test.wav':\n",
      "  Metadata:\n",
      "    ISFT            : Lavf58.29.100\n",
      "    Stream #0:0: Audio: pcm_s16le ([1][0][0][0] / 0x0001), 16000 Hz, mono, s16, 256 kb/s\n",
      "    Metadata:\n",
      "      encoder         : Lavc58.54.100 pcm_s16le\n",
      "size=     603kB time=00:00:19.28 bitrate= 256.0kbits/s speed= 280x    \n",
      "video:0kB audio:603kB subtitle:0kB other streams:0kB global headers:0kB muxing overhead: 0.012640%\n"
     ]
    }
   ],
   "source": [
    "!ffmpeg -f concat -safe 0 -i resources/data/test_pieces.txt resources/data/test.wav"
   ]
  },
  {
   "cell_type": "markdown",
   "id": "5edc078c",
   "metadata": {},
   "source": [
    "Запускаем стриминг"
   ]
  },
  {
   "cell_type": "code",
   "execution_count": 40,
   "id": "d28e4cfd",
   "metadata": {},
   "outputs": [],
   "source": [
    "!python bin/stream.py -d resources/data/test.wav -f s16le -r > resources/output/test_result.txt"
   ]
  },
  {
   "cell_type": "code",
   "execution_count": 5,
   "id": "b72bcd60",
   "metadata": {},
   "outputs": [
    {
     "data": {
      "image/png": "[encoded data removed]",
      "text/plain": [
       "<Figure size 576x360 with 1 Axes>"
      ]
     },
     "metadata": {},
     "output_type": "display_data"
    }
   ],
   "source": [
    "probs = [float(v) for v in open(\"resources/output/test_result.txt\", \"r\").readlines()]\n",
    "plt.plot(probs)\n",
    "plt.axhline(y=0.7, color='r', linestyle='--')\n",
    "plt.axvline(x=42, color='green', linestyle='--', label=\"keyword\")\n",
    "plt.xlabel(\"chunk\")\n",
    "plt.ylabel(\"prob\")\n",
    "plt.legend()\n",
    "plt.title(\"Keyword probability by audio chunk\")\n",
    "\n",
    "plt.show()"
   ]
  },
  {
   "cell_type": "markdown",
   "id": "1824eadd",
   "metadata": {},
   "source": [
    "### Анализ\n",
    "\n",
    "Был написан код, сохраняющий выходы GRU и выровненный с шагом свертки. Однако, он не заработал, поэтому было решено быстро докинуть аккумулятор на весь вход. Так заработало."
   ]
  }
 ],
 "metadata": {
  "kernelspec": {
   "display_name": "Python [conda env:ml]",
   "language": "python",
   "name": "conda-env-ml-py"
  },
  "language_info": {
   "codemirror_mode": {
    "name": "ipython",
    "version": 3
   },
   "file_extension": ".py",
   "mimetype": "text/x-python",
   "name": "python",
   "nbconvert_exporter": "python",
   "pygments_lexer": "ipython3",
   "version": "3.8.13"
  }
 },
 "nbformat": 4,
 "nbformat_minor": 5
}
